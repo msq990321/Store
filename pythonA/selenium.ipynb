{
 "cells": [
  {
   "cell_type": "code",
   "execution_count": null,
   "metadata": {},
   "outputs": [],
   "source": [
    "import time\n",
    "from selenium import webdriver\n",
    "from selenium.webdriver.common.desired_capabilities import DesiredCapabilities\n",
    "from fake_useragent import UserAgent\n",
    "\n",
    "ua = UserAgent()\n",
    "\n",
    "def getdata(html):\n",
    "    pass\n",
    "\n",
    "\n",
    "def run():\n",
    "    login_url = 'http://www.douban.com/login'\n",
    "    dcap = dict(DesiredCapabilities.PHANTOMJS)\n",
    "    dcap['phantomjs.page.settings.userAgent'] = ('Mozilla/5.0 (Windows NT 10.0; Win64; x64) AppleWebKit/537.36 (KHTML, like Gecko) Chrome/99.0.4844.51 Safari/537.36')\n",
    "    driver = webdriver.PhantomJS(\"D:/kits/phantomjs-2.1.1-windows/bin/phantomjs\", desired_capabilities=dcap)\n",
    "    driver.get(login_url)\n",
    "    time.sleep(5)\n",
    "\n",
    "    #获取登录页面初始图片\n",
    "    driver.get_screenshot_as_file('before-login.png')\n",
    "    html = driver.page_source\n",
    "    print(html)\n",
    "\n",
    "    driver.find_element_by_xpath('//*[@id=\"email\"]').send_keys('你的账号')\n",
    "    driver.find_element_by_xpath('//*[@id=\"password\"]').send_keys('你的密码')\n",
    "    time.sleep(3)\n",
    "\n",
    "    #获取填写信息后的页面\n",
    "    driver.get_screenshot_as_file('after-insert.png')\n",
    "\n",
    "    #点击登录\n",
    "    driver.find_element_by_xpath('//*[@id=\"lzform\"]/div[6]/input').click()\n",
    "\n",
    "    #查看登录后界面\n",
    "    time.sleep(3)\n",
    "    driver.get_screenshot_as_file('after-login.png')\n",
    "\n",
    "    '''\n",
    "    html = drive.get('http://...')\n",
    "    getdata(html)\n",
    "    '''\n",
    "    #异常处理\n",
    "    driver.quit()\n",
    "\n",
    "if __name__ == '__main__':\n",
    "    run()"
   ]
  },
  {
   "cell_type": "code",
   "execution_count": null,
   "metadata": {},
   "outputs": [],
   "source": [
    "from selenium import webdriver\n",
    "from selenium.webdriver.chrome.service import Service\n",
    "\n",
    "options = webdriver.ChromeOptions()\n",
    "options.add_experimental_option(\n",
    "    'excludeSwitches', ['enable-logging']\n",
    ")\n",
    "wd = webdriver.Chrome(options = options)\n",
    "webdriver.get('http://www.baidu.com')\n"
   ]
  },
  {
   "cell_type": "code",
   "execution_count": null,
   "metadata": {},
   "outputs": [],
   "source": [
    "from selenium import webdriver\n",
    "from selenium.webdriver.common.by import By\n",
    "wd = webdriver.Chrome()\n",
    "wd.get('https://www.byhy.net/_files/stock1.html')\n",
    "\n",
    "element = wd.find_element(By.ID,'kw')\n",
    "element.send_keys('通讯\\n')"
   ]
  },
  {
   "cell_type": "code",
   "execution_count": null,
   "metadata": {},
   "outputs": [],
   "source": [
    "from selenium import webdriver\n",
    "from selenium.webdriver.common.by import By\n",
    "wd = webdriver.Chrome()\n",
    "wd.get('https://www.byhy.net/_files/stock1.html')\n",
    "\n",
    "element = wd.find_element(By.ID,'kw')\n",
    "element.send_keys('通讯\\n')"
   ]
  },
  {
   "cell_type": "code",
   "execution_count": null,
   "metadata": {},
   "outputs": [],
   "source": [
    "from selenium import webdriver\n",
    "from selenium.webdriver.common.by import By\n",
    "wd = webdriver.Chrome()\n",
    "wd.get('https://www.byhy.net/_files/stock1.html')\n",
    "\n",
    "element = wd.find_element(By.ID,'kw')\n",
    "element.send_keys('通讯\\n')"
   ]
  },
  {
   "cell_type": "code",
   "execution_count": null,
   "metadata": {},
   "outputs": [],
   "source": [
    "from selenium import webdriver\n",
    "from selenium.webdriver.common.by import By\n",
    "wd = webdriver.Chrome()\n",
    "wd.get('https://www.byhy.net/_files/stock1.html')\n",
    "\n",
    "element = wd.find_element(By.ID,'kw')\n",
    "element.send_keys('通讯\\n')"
   ]
  },
  {
   "cell_type": "code",
   "execution_count": null,
   "metadata": {},
   "outputs": [],
   "source": [
    "from selenium import webdriver\n",
    "from selenium.webdriver.common.by import By\n",
    "wd = webdriver.Chrome()\n",
    "wd.get('https://cdn2.byhy.net/files/selenium/sample1.html')\n",
    "\n",
    "elements = wd.find_elements(By.CLASS_NAME,'animal')\n",
    "for element in elements:\n",
    "    print(element.text)"
   ]
  },
  {
   "cell_type": "code",
   "execution_count": null,
   "metadata": {},
   "outputs": [],
   "source": [
    "from selenium import webdriver\n",
    "from selenium.webdriver.common.by import By\n",
    "wd = webdriver.Chrome()\n",
    "wd.get('https://cdn2.byhy.net/files/selenium/sample1.html')\n",
    "\n",
    "elements = wd.find_elements(By.TAG_NAME,'div')\n",
    "for element in elements:\n",
    "    print(element.text)"
   ]
  },
  {
   "cell_type": "code",
   "execution_count": null,
   "metadata": {},
   "outputs": [],
   "source": [
    "from selenium import webdriver\n",
    "from selenium.webdriver.common.by import By\n",
    "wd = webdriver.Chrome()\n",
    "wd.get('https://cdn2.byhy.net/files/selenium/sample1.html')\n",
    "\n",
    "element = wd.find_element(By.ID,'container')\n",
    "spans = element.find_elements(By.TAG_NAME,'span')\n",
    "for span in spans:\n",
    "    print(span.text)"
   ]
  },
  {
   "cell_type": "code",
   "execution_count": null,
   "metadata": {},
   "outputs": [],
   "source": [
    "from selenium import webdriver\n",
    "from selenium.webdriver.common.by import By\n",
    "import time\n",
    "\n",
    "wd = webdriver.Chrome()\n",
    "wd.get('https://www.byhy.net/_files/stock1.html')\n",
    "\n",
    "element = wd.find_element(By.ID,'kw')\n",
    "element.send_keys('通讯\\n')\n",
    "\n",
    "time.sleep(5)\n",
    "\n",
    "element = wd.find_element(By.ID,'1')\n",
    "print(element.text)"
   ]
  },
  {
   "cell_type": "code",
   "execution_count": null,
   "metadata": {},
   "outputs": [],
   "source": [
    "# from selenium import webdriver\n",
    "# from selenium.webdriver.common.by import By\n",
    "# import time\n",
    "\n",
    "# url =input('输入网站url')\n",
    "# wd = webdriver.Chrome()\n",
    "# wd.get(url)\n",
    "# time.sleep(3)\n",
    "\n",
    "# element = wd.find_element(By.CLASS_NAME,'nav-search-content')\n",
    "# element.find_element(By.XPATH,'placehoder').send_keys('LOL\\n')\n"
   ]
  },
  {
   "cell_type": "code",
   "execution_count": null,
   "metadata": {},
   "outputs": [],
   "source": [
    "from selenium import webdriver\n",
    "from selenium.webdriver.common.by import By\n",
    "\n",
    "wd = webdriver.Chrome()\n",
    "wd.implicitly_wait(10)\n",
    "wd.get('https://www.bilibili.com')\n",
    "\n",
    "element = wd.find_element(By.CLASS_NAME,'nav-search-input')\n",
    "element.clear()\n",
    "element.send_keys('谢谢你\\n')\n",
    "\n"
   ]
  },
  {
   "cell_type": "code",
   "execution_count": null,
   "metadata": {},
   "outputs": [],
   "source": [
    "from selenium import webdriver\n",
    "from selenium.webdriver.common.by import By\n",
    "\n",
    "wd = webdriver.Chrome()\n",
    "wd.implicitly_wait(10)\n",
    "wd.get('https://cdn2.byhy.net/files/selenium/test3.html')\n",
    "\n",
    "element = wd.find_element(By.ID,'input1')\n",
    "element.clear()\n",
    "element.send_keys('hello')"
   ]
  },
  {
   "cell_type": "code",
   "execution_count": null,
   "metadata": {},
   "outputs": [],
   "source": [
    "from selenium import webdriver\n",
    "from selenium.webdriver.common.by import By\n",
    "\n",
    "wd = webdriver.Chrome()\n",
    "\n",
    "wd.get('https://cdn2.byhy.net/files/selenium/sample1.html')\n",
    "\n",
    "# 根据属性选择元素\n",
    "element = wd.find_element(By.CSS_SELECTOR, '[href=\"http://www.miitbeian.gov.cn\"]')\n",
    "\n",
    "# 打印出元素对应的html\n",
    "print(element.get_attribute('outerHTML'))"
   ]
  },
  {
   "cell_type": "code",
   "execution_count": null,
   "metadata": {},
   "outputs": [],
   "source": [
    "from selenium import webdriver\n",
    "from selenium.webdriver.common.by import By\n",
    "\n",
    "wd = webdriver.Chrome()\n",
    "wd.implicitly_wait(10)\n",
    "\n",
    "url = 'https://accounts.douban.com/passport/login'\n",
    "wd.get(url)    \n",
    "\n",
    "dl = wd.find_element(By.CSS_SELECTOR,'ul li:nth-of-type(2)').click()############################################\n",
    "username = wd.find_element(By.ID,'username')\n",
    "username.clear()\n",
    "password = wd.find_element(By.ID,'password')\n",
    "password.clear()\n",
    "username.send_keys('15505298898')\n",
    "password.send_keys('Msq990321\\n')"
   ]
  },
  {
   "cell_type": "markdown",
   "metadata": {},
   "source": [
    "from selenium import webdriver\n",
    "from selenium.webdriver.common.by import By\n",
    "\n",
    "wd = webdriver.Chrome()\n",
    "wd.implicitly_wait(10)\n",
    "\n",
    "url = 'https://accounts.douban.com/passport/login'\n",
    "wd.get(url)    \n",
    "\n",
    "dl = wd.find_element(By.CLASS_NAME,'account-tab-account').click()###########################################\n",
    "username = wd.find_element(By.ID,'username')\n",
    "username.clear()\n",
    "password = wd.find_element(By.ID,'password')\n",
    "password.clear()\n",
    "username.send_keys('15505298898')\n",
    "password.send_keys('Msq990321\\n')"
   ]
  },
  {
   "cell_type": "code",
   "execution_count": null,
   "metadata": {},
   "outputs": [],
   "source": [
    "from selenium import webdriver\n",
    "from selenium.webdriver.common.by import By\n",
    "\n",
    "wd = webdriver.Chrome()\n",
    "wd.implicitly_wait(10)\n",
    "\n",
    "wd.get('https://cdn2.byhy.net/files/selenium/sample2.html')\n",
    "wd.switch_to.frame('frame1')####\n",
    "\n",
    "# 根据 class name 选择元素，返回的是 一个列表\n",
    "elements = wd.find_elements(By.CLASS_NAME, 'plant')\n",
    "\n",
    "for element in elements:\n",
    "    print(element.text)\n",
    "\n",
    "wd.switch_to.default_content()####\n",
    "wd.find_element(By.ID,'outerbutton').click()\n",
    "\n",
    "wd.quit()"
   ]
  },
  {
   "cell_type": "markdown",
   "metadata": {},
   "source": [
    "from selenium import webdriver\n",
    "from selenium.webdriver.common.by import By\n",
    "\n",
    "wd = webdriver.Chrome()\n",
    "wd.implicitly_wait(10)\n",
    "\n",
    "wd.get('https://cdn2.byhy.net/files/selenium/sample3.html')\n",
    "\n",
    "# 点击打开新窗口的链接\n",
    "link = wd.find_element(By.TAG_NAME, \"a\")\n",
    "link.click()\n",
    "\n",
    "mainhandle = wd.current_window_handle    #*************\n",
    "for handle in wd.window_handles:\n",
    "    wd.switch_to.window(handle)          #*************\n",
    "    if 'Bing' in wd.title:\n",
    "        break\n",
    "\n",
    "# wd.title属性是当前窗口的标题栏 文本\n",
    "print(wd.title)\n",
    "wd.switch_to.window(mainhandle)\n",
    "print(wd.title)\n",
    "\n"
   ]
  },
  {
   "cell_type": "code",
   "execution_count": null,
   "metadata": {},
   "outputs": [],
   "source": [
    "\"\"\"checkbox\"\"\"\n",
    "from selenium import webdriver\n",
    "from selenium.webdriver.common.by import By\n",
    "\n",
    "wd = webdriver.Chrome()\n",
    "wd.implicitly_wait(10)\n",
    "\n",
    "wd.get('https://cdn2.byhy.net/files/selenium/test2.html')\n",
    "\n",
    "elements = wd.find_elements(By.CSS_SELECTOR, \"#s_checkbox input[checked=checked]\")\n",
    "\n",
    "for element in elements:\n",
    "  element.click()\n",
    "wd.find_element(By.CSS_SELECTOR,'#s_checkbox input[value=小雷老师]').click()\n"
   ]
  },
  {
   "cell_type": "code",
   "execution_count": null,
   "metadata": {},
   "outputs": [],
   "source": [
    "\"\"\"select radio box\"\"\"\n",
    "from selenium import webdriver\n",
    "from selenium.webdriver.common.by import By\n",
    "from selenium.webdriver.support.ui import Select\n",
    "\n",
    "wd = webdriver.Chrome()\n",
    "wd.implicitly_wait(10)\n",
    "\n",
    "wd.get('https://cdn2.byhy.net/files/selenium/test2.html')\n",
    "\n",
    "select = Select(wd.find_element(By.ID,'ss_single'))\n",
    "select.select_by_value('小雷老师')"
   ]
  },
  {
   "cell_type": "code",
   "execution_count": null,
   "metadata": {},
   "outputs": [],
   "source": [
    "\"\"\"select check box\"\"\"\n",
    "from selenium import webdriver\n",
    "from selenium.webdriver.common.by import By\n",
    "from selenium.webdriver.support.ui import Select\n",
    "\n",
    "wd = webdriver.Chrome()\n",
    "wd.implicitly_wait(10)\n",
    "\n",
    "wd.get('https://cdn2.byhy.net/files/selenium/test2.html')\n",
    "\n",
    "select = Select(wd.find_element(By.ID,'ss_multi'))\n",
    "select.deselect_all()\n",
    "select.select_by_value('小雷老师')\n",
    "select.select_by_value('小江老师')"
   ]
  },
  {
   "cell_type": "code",
   "execution_count": null,
   "metadata": {},
   "outputs": [],
   "source": [
    "\"\"\"冻结界面\"\"\"\n",
    "from selenium import webdriver\n",
    "from selenium.webdriver.common.by import By\n",
    "\n",
    "driver = webdriver.Chrome()\n",
    "driver.implicitly_wait(5)\n",
    "\n",
    "driver.get('https://www.baidu.com/')\n",
    "\n",
    "from selenium.webdriver.common.action_chains import ActionChains\n",
    "\n",
    "ac = ActionChains(driver)\n",
    "\n",
    "# 鼠标移动到 元素上\n",
    "ac.move_to_element(\n",
    "    driver.find_element(By.CSS_SELECTOR, '[href=\"http://www.baidu.com/more/\"]')\n",
    ").perform()"
   ]
  },
  {
   "cell_type": "code",
   "execution_count": null,
   "metadata": {},
   "outputs": [],
   "source": [
    "\"\"\"关于弹窗\"\"\"\n",
    "from selenium import webdriver\n",
    "from selenium.webdriver.common.by import By\n",
    "\n",
    "driver = webdriver.Chrome()\n",
    "driver.implicitly_wait(5)\n",
    "\n",
    "driver.get('https://cdn2.byhy.net/files/selenium/test4.html')\n",
    "\n",
    "# driver.find_element(By.ID,'b1').click()\n",
    "# print(driver.switch_to.alert.text)\n",
    "# driver.switch_to.alert.accept()\n",
    "\n",
    "# driver.find_element(By.ID,'b2').click()\n",
    "# print(driver.switch_to.alert.text)\n",
    "# # driver.switch_to.alert.accept()\n",
    "# driver.switch_to.alert.dismiss()\n",
    "\n",
    "driver.find_element(By.ID,'b3').click()\n",
    "alert = driver.switch_to.alert\n",
    "print(alert.text)\n",
    "alert.send_keys('QQQR')\n",
    "alert.accept()\n",
    "driver.get_screenshot_as_file('1.png')\n"
   ]
  },
  {
   "cell_type": "code",
   "execution_count": 33,
   "metadata": {},
   "outputs": [
    {
     "ename": "InvalidSelectorException",
     "evalue": "Message: invalid selector: Unable to locate an element with the xpath expression \\div because of the following error:\nSyntaxError: Failed to execute 'evaluate' on 'Document': The string '\\div' is not a valid XPath expression.\n  (Session info: chrome=100.0.4896.127)\nStacktrace:\nBacktrace:\n\tOrdinal0 [0x006E9943+2595139]\n\tOrdinal0 [0x0067C9F1+2148849]\n\tOrdinal0 [0x00574528+1066280]\n\tOrdinal0 [0x00576E04+1076740]\n\tOrdinal0 [0x00576CBE+1076414]\n\tOrdinal0 [0x00576F50+1077072]\n\tOrdinal0 [0x005A0D1E+1248542]\n\tOrdinal0 [0x005A11CB+1249739]\n\tOrdinal0 [0x005CD84C+1431628]\n\tOrdinal0 [0x005BBA34+1358388]\n\tOrdinal0 [0x005CBAF2+1424114]\n\tOrdinal0 [0x005BB806+1357830]\n\tOrdinal0 [0x00596086+1204358]\n\tOrdinal0 [0x00596F96+1208214]\n\tGetHandleVerifier [0x0088B232+1658114]\n\tGetHandleVerifier [0x0094312C+2411516]\n\tGetHandleVerifier [0x0077F261+560433]\n\tGetHandleVerifier [0x0077E366+556598]\n\tOrdinal0 [0x0068286B+2173035]\n\tOrdinal0 [0x006875F8+2192888]\n\tOrdinal0 [0x006876E5+2193125]\n\tOrdinal0 [0x006911FC+2232828]\n\tBaseThreadInitThunk [0x7539FA29+25]\n\tRtlGetAppContainerNamedObjectPath [0x77467A7E+286]\n\tRtlGetAppContainerNamedObjectPath [0x77467A4E+238]\n",
     "output_type": "error",
     "traceback": [
      "\u001b[1;31m---------------------------------------------------------------------------\u001b[0m",
      "\u001b[1;31mInvalidSelectorException\u001b[0m                  Traceback (most recent call last)",
      "\u001b[1;32m<ipython-input-33-8018e40c1c6b>\u001b[0m in \u001b[0;36m<module>\u001b[1;34m\u001b[0m\n\u001b[0;32m      4\u001b[0m \u001b[0mwebdriver\u001b[0m \u001b[1;33m=\u001b[0m \u001b[0mwebdriver\u001b[0m\u001b[1;33m.\u001b[0m\u001b[0mChrome\u001b[0m\u001b[1;33m(\u001b[0m\u001b[1;33m)\u001b[0m\u001b[1;33m\u001b[0m\u001b[1;33m\u001b[0m\u001b[0m\n\u001b[0;32m      5\u001b[0m \u001b[0mwebdriver\u001b[0m\u001b[1;33m.\u001b[0m\u001b[0mget\u001b[0m\u001b[1;33m(\u001b[0m\u001b[1;34m'http://www.baidu.com'\u001b[0m\u001b[1;33m)\u001b[0m\u001b[1;33m\u001b[0m\u001b[1;33m\u001b[0m\u001b[0m\n\u001b[1;32m----> 6\u001b[1;33m \u001b[0melements\u001b[0m \u001b[1;33m=\u001b[0m \u001b[0mwebdriver\u001b[0m\u001b[1;33m.\u001b[0m\u001b[0mfind_elements\u001b[0m\u001b[1;33m(\u001b[0m\u001b[0mBy\u001b[0m\u001b[1;33m.\u001b[0m\u001b[0mXPATH\u001b[0m\u001b[1;33m,\u001b[0m\u001b[1;34m'\\\\div'\u001b[0m\u001b[1;33m)\u001b[0m\u001b[1;33m\u001b[0m\u001b[1;33m\u001b[0m\u001b[0m\n\u001b[0m",
      "\u001b[1;32mD:\\Programing\\anaconda\\lib\\site-packages\\selenium\\webdriver\\remote\\webdriver.py\u001b[0m in \u001b[0;36mfind_elements\u001b[1;34m(self, by, value)\u001b[0m\n\u001b[0;32m   1283\u001b[0m         return self.execute(Command.FIND_ELEMENTS, {\n\u001b[0;32m   1284\u001b[0m             \u001b[1;34m'using'\u001b[0m\u001b[1;33m:\u001b[0m \u001b[0mby\u001b[0m\u001b[1;33m,\u001b[0m\u001b[1;33m\u001b[0m\u001b[1;33m\u001b[0m\u001b[0m\n\u001b[1;32m-> 1285\u001b[1;33m             'value': value})['value'] or []\n\u001b[0m\u001b[0;32m   1286\u001b[0m \u001b[1;33m\u001b[0m\u001b[0m\n\u001b[0;32m   1287\u001b[0m     \u001b[1;33m@\u001b[0m\u001b[0mproperty\u001b[0m\u001b[1;33m\u001b[0m\u001b[1;33m\u001b[0m\u001b[0m\n",
      "\u001b[1;32mD:\\Programing\\anaconda\\lib\\site-packages\\selenium\\webdriver\\remote\\webdriver.py\u001b[0m in \u001b[0;36mexecute\u001b[1;34m(self, driver_command, params)\u001b[0m\n\u001b[0;32m    423\u001b[0m         \u001b[0mresponse\u001b[0m \u001b[1;33m=\u001b[0m \u001b[0mself\u001b[0m\u001b[1;33m.\u001b[0m\u001b[0mcommand_executor\u001b[0m\u001b[1;33m.\u001b[0m\u001b[0mexecute\u001b[0m\u001b[1;33m(\u001b[0m\u001b[0mdriver_command\u001b[0m\u001b[1;33m,\u001b[0m \u001b[0mparams\u001b[0m\u001b[1;33m)\u001b[0m\u001b[1;33m\u001b[0m\u001b[1;33m\u001b[0m\u001b[0m\n\u001b[0;32m    424\u001b[0m         \u001b[1;32mif\u001b[0m \u001b[0mresponse\u001b[0m\u001b[1;33m:\u001b[0m\u001b[1;33m\u001b[0m\u001b[1;33m\u001b[0m\u001b[0m\n\u001b[1;32m--> 425\u001b[1;33m             \u001b[0mself\u001b[0m\u001b[1;33m.\u001b[0m\u001b[0merror_handler\u001b[0m\u001b[1;33m.\u001b[0m\u001b[0mcheck_response\u001b[0m\u001b[1;33m(\u001b[0m\u001b[0mresponse\u001b[0m\u001b[1;33m)\u001b[0m\u001b[1;33m\u001b[0m\u001b[1;33m\u001b[0m\u001b[0m\n\u001b[0m\u001b[0;32m    426\u001b[0m             response['value'] = self._unwrap_value(\n\u001b[0;32m    427\u001b[0m                 response.get('value', None))\n",
      "\u001b[1;32mD:\\Programing\\anaconda\\lib\\site-packages\\selenium\\webdriver\\remote\\errorhandler.py\u001b[0m in \u001b[0;36mcheck_response\u001b[1;34m(self, response)\u001b[0m\n\u001b[0;32m    245\u001b[0m                 \u001b[0malert_text\u001b[0m \u001b[1;33m=\u001b[0m \u001b[0mvalue\u001b[0m\u001b[1;33m[\u001b[0m\u001b[1;34m'alert'\u001b[0m\u001b[1;33m]\u001b[0m\u001b[1;33m.\u001b[0m\u001b[0mget\u001b[0m\u001b[1;33m(\u001b[0m\u001b[1;34m'text'\u001b[0m\u001b[1;33m)\u001b[0m\u001b[1;33m\u001b[0m\u001b[1;33m\u001b[0m\u001b[0m\n\u001b[0;32m    246\u001b[0m             \u001b[1;32mraise\u001b[0m \u001b[0mexception_class\u001b[0m\u001b[1;33m(\u001b[0m\u001b[0mmessage\u001b[0m\u001b[1;33m,\u001b[0m \u001b[0mscreen\u001b[0m\u001b[1;33m,\u001b[0m \u001b[0mstacktrace\u001b[0m\u001b[1;33m,\u001b[0m \u001b[0malert_text\u001b[0m\u001b[1;33m)\u001b[0m  \u001b[1;31m# type: ignore[call-arg]  # mypy is not smart enough here\u001b[0m\u001b[1;33m\u001b[0m\u001b[1;33m\u001b[0m\u001b[0m\n\u001b[1;32m--> 247\u001b[1;33m         \u001b[1;32mraise\u001b[0m \u001b[0mexception_class\u001b[0m\u001b[1;33m(\u001b[0m\u001b[0mmessage\u001b[0m\u001b[1;33m,\u001b[0m \u001b[0mscreen\u001b[0m\u001b[1;33m,\u001b[0m \u001b[0mstacktrace\u001b[0m\u001b[1;33m)\u001b[0m\u001b[1;33m\u001b[0m\u001b[1;33m\u001b[0m\u001b[0m\n\u001b[0m\u001b[0;32m    248\u001b[0m \u001b[1;33m\u001b[0m\u001b[0m\n\u001b[0;32m    249\u001b[0m     \u001b[1;32mdef\u001b[0m \u001b[0m_value_or_default\u001b[0m\u001b[1;33m(\u001b[0m\u001b[0mself\u001b[0m\u001b[1;33m,\u001b[0m \u001b[0mobj\u001b[0m\u001b[1;33m:\u001b[0m \u001b[0mMapping\u001b[0m\u001b[1;33m[\u001b[0m\u001b[0m_KT\u001b[0m\u001b[1;33m,\u001b[0m \u001b[0m_VT\u001b[0m\u001b[1;33m]\u001b[0m\u001b[1;33m,\u001b[0m \u001b[0mkey\u001b[0m\u001b[1;33m:\u001b[0m \u001b[0m_KT\u001b[0m\u001b[1;33m,\u001b[0m \u001b[0mdefault\u001b[0m\u001b[1;33m:\u001b[0m \u001b[0m_VT\u001b[0m\u001b[1;33m)\u001b[0m \u001b[1;33m->\u001b[0m \u001b[0m_VT\u001b[0m\u001b[1;33m:\u001b[0m\u001b[1;33m\u001b[0m\u001b[1;33m\u001b[0m\u001b[0m\n",
      "\u001b[1;31mInvalidSelectorException\u001b[0m: Message: invalid selector: Unable to locate an element with the xpath expression \\div because of the following error:\nSyntaxError: Failed to execute 'evaluate' on 'Document': The string '\\div' is not a valid XPath expression.\n  (Session info: chrome=100.0.4896.127)\nStacktrace:\nBacktrace:\n\tOrdinal0 [0x006E9943+2595139]\n\tOrdinal0 [0x0067C9F1+2148849]\n\tOrdinal0 [0x00574528+1066280]\n\tOrdinal0 [0x00576E04+1076740]\n\tOrdinal0 [0x00576CBE+1076414]\n\tOrdinal0 [0x00576F50+1077072]\n\tOrdinal0 [0x005A0D1E+1248542]\n\tOrdinal0 [0x005A11CB+1249739]\n\tOrdinal0 [0x005CD84C+1431628]\n\tOrdinal0 [0x005BBA34+1358388]\n\tOrdinal0 [0x005CBAF2+1424114]\n\tOrdinal0 [0x005BB806+1357830]\n\tOrdinal0 [0x00596086+1204358]\n\tOrdinal0 [0x00596F96+1208214]\n\tGetHandleVerifier [0x0088B232+1658114]\n\tGetHandleVerifier [0x0094312C+2411516]\n\tGetHandleVerifier [0x0077F261+560433]\n\tGetHandleVerifier [0x0077E366+556598]\n\tOrdinal0 [0x0068286B+2173035]\n\tOrdinal0 [0x006875F8+2192888]\n\tOrdinal0 [0x006876E5+2193125]\n\tOrdinal0 [0x006911FC+2232828]\n\tBaseThreadInitThunk [0x7539FA29+25]\n\tRtlGetAppContainerNamedObjectPath [0x77467A7E+286]\n\tRtlGetAppContainerNamedObjectPath [0x77467A4E+238]\n"
     ]
    }
   ],
   "source": [
    "'''XPATH'''\n",
    "from selenium import webdriver\n",
    "from selenium.webdriver.common.by import By\n",
    "webdriver = webdriver.Chrome()\n",
    "webdriver.get('http://www.baidu.com')\n",
    "elements = webdriver.find_elements(By.XPATH,'\\\\div')"
   ]
  }
 ],
 "metadata": {
  "interpreter": {
   "hash": "ea3cdbc4a0b5a43c9b72034cf1ee6251730c8bf6add686050d381a0ebd91923a"
  },
  "kernelspec": {
   "display_name": "Python 3.9.7",
   "language": "python",
   "name": "python3"
  },
  "language_info": {
   "codemirror_mode": {
    "name": "ipython",
    "version": 3
   },
   "file_extension": ".py",
   "mimetype": "text/x-python",
   "name": "python",
   "nbconvert_exporter": "python",
   "pygments_lexer": "ipython3",
   "version": "3.7.6"
  },
  "orig_nbformat": 4
 },
 "nbformat": 4,
 "nbformat_minor": 2
}
