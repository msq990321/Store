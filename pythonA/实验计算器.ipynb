{
 "cells": [
  {
   "cell_type": "code",
   "execution_count": 37,
   "metadata": {},
   "outputs": [],
   "source": [
    "# 关于按钮\n",
    "import tkinter as tk\n",
    "master = tk.Tk()\n",
    "master.geometry('400x400+700+300')\n",
    "master.configure(background='#f0e68c')\n",
    "master.title('实验计算器')\n",
    "\n",
    "'''单击按钮按类生成'''\n",
    "class Button():\n",
    "    def __init__(self,name):\n",
    "        self.name = name\n",
    "        tk.Button(master,text=self.name).pack(side = 'left',padx=20)\n",
    "bt1 = Button('bt1')\n",
    "bt2 = Button('bt2')\n",
    "bt3 = Button('bt3')\n",
    "bt4 = Button('bt4')\n",
    "\n",
    "'''关于标签和输入进行类封装'''\n",
    "LABLE = tk.Label(master, bg=\"#8c52ff\", fg=\"#ffffff\", text=\"欢迎使用实验计算器\", font=(\"Helvetica\", 15, \"bold\"), pady=10)\n",
    "LABLE.place(x=55, y=0)\n",
    "class Entry():\n",
    "    def __init__(self,name,width):\n",
    "        self.name = name\n",
    "        self.width = width\n",
    "        tk.Label(master, bg=\"#ffffff\", text=self.name, bd=6,font=(\"Helvetica\", 10, \"bold\"), pady=5).place(x=55, y=self.width)\n",
    "    def ent(self):\n",
    "        tk.Entry(master, bd=6, width=10, font=\"Roboto 11\").place(x=240, y=self.width)\n",
    "a = Entry('输入50ml锥形瓶数量','60')\n",
    "a.ent()\n",
    "b = Entry('输入250ml锥形瓶数量','121')\n",
    "b.ent()\n",
    "c = Entry('输入500ml锥形瓶数量','181')\n",
    "c.ent()\n",
    "\n",
    "def callback():\n",
    "    print('我被调用了')\n",
    "# b = tk.Button(master,text = '执行',command = callback)\n",
    "# b.pack()\n",
    "master.mainloop()"
   ]
  },
  {
   "cell_type": "code",
   "execution_count": 24,
   "metadata": {},
   "outputs": [
    {
     "name": "stdout",
     "output_type": "stream",
     "text": [
      "最少能配410ml"
     ]
    }
   ],
   "source": [
    "# 计算最少能配多少升培养基\n",
    "def Lt():   \n",
    "    a,b,c = input('分别有多少瓶(50ml,250ml,50ml)，并且用空格分开').split()\n",
    "    def Ltotal(a,b,c):\n",
    "        a = int(a)\n",
    "        b = int(b)\n",
    "        c = int(c)\n",
    "        vol = a*10 + b*50 + c*100\n",
    "        return vol\n",
    "    print('最少能配',Ltotal(a,b,c),sep='',end='ml')\n",
    "Lt()"
   ]
  },
  {
   "cell_type": "code",
   "execution_count": null,
   "metadata": {},
   "outputs": [],
   "source": [
    "# 计算培养基所需量\n",
    "\n",
    "# 相对分子量\n",
    "Mtryptone = 10\n",
    "Myeast = 5\n",
    "Mnacl = 10\n",
    "Magar = 15\n",
    "\n",
    "L = eval(input('要配多少升LB'))\n",
    "mtryptone = L*Mtryptone\n",
    "myeast = L*Myeast\n",
    "mnacl = L*Mnacl\n",
    "magar = L*Magar\n"
   ]
  },
  {
   "cell_type": "code",
   "execution_count": 3,
   "metadata": {},
   "outputs": [
    {
     "name": "stdout",
     "output_type": "stream",
     "text": [
      "10\n"
     ]
    }
   ],
   "source": [
    "M={}\n",
    "mpl={'tryptone':10,'yeast':5,'nacl':10,'agar':15}\n",
    "print(mpl['tryptone'])"
   ]
  }
 ],
 "metadata": {
  "interpreter": {
   "hash": "a9c5d6bf6ac43018c98e112cde44a16bc9a4547af715e6ab8b81898abb027505"
  },
  "kernelspec": {
   "display_name": "Python 3.7.3 ('base')",
   "language": "python",
   "name": "python3"
  },
  "language_info": {
   "codemirror_mode": {
    "name": "ipython",
    "version": 3
   },
   "file_extension": ".py",
   "mimetype": "text/x-python",
   "name": "python",
   "nbconvert_exporter": "python",
   "pygments_lexer": "ipython3",
   "version": "3.7.3"
  },
  "orig_nbformat": 4
 },
 "nbformat": 4,
 "nbformat_minor": 2
}
