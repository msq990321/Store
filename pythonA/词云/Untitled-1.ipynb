{
 "cells": [
  {
   "cell_type": "code",
   "execution_count": 2,
   "metadata": {},
   "outputs": [
    {
     "name": "stderr",
     "output_type": "stream",
     "text": [
      "Building prefix dict from the default dictionary ...\n",
      "Dumping model to file cache C:\\Users\\ADMINI~1\\AppData\\Local\\Temp\\jieba.cache\n",
      "Loading model cost 0.706 seconds.\n",
      "Prefix dict has been built successfully.\n"
     ]
    },
    {
     "name": "stdout",
     "output_type": "stream",
     "text": [
      "弱小 的 人才 习惯 嘲讽 与 否定 ， 而 内心 强大 的 人 ， 从不 吝啬 赞美 与 鼓励 ！ 我们 就是 后浪 ， 奔涌 吧 ！ 后浪 ， 奔涌 吧 ！\n"
     ]
    }
   ],
   "source": [
    "import jieba\n",
    "from wordcloud import WordCloud\n",
    "import numpy as np\n",
    "from PIL import Image\n",
    "from matplotlib import pyplot\n",
    "import pyplot as plt\n",
    "\n",
    "txt = '弱小的人才习惯嘲讽与否定，而内心强大的人，从不吝啬赞美与鼓励！我们就是后浪，奔涌吧！后浪，奔涌吧！'\n",
    "words = jieba.lcut(txt)\n",
    "newtext = ' '.join(words)\n",
    "print(newtext)\n",
    "# wordcloud = WordCloud(font_path='simhei.ttf').generate(newtext)wordcloud.to_file('中国词云图.jpg')"
   ]
  },
  {
   "cell_type": "code",
   "execution_count": 8,
   "metadata": {},
   "outputs": [],
   "source": [
    "from msilib.schema import tables\n",
    "from pydoc import doc\n",
    "from turtle import width\n",
    "from docx import Document\n",
    "from docx.shared import Inches,Cm,Pt\n",
    "from docx.document import Document as Doc\n",
    "document = Document()#文件类型是：Doc\n",
    "# 添加标题\n",
    "document.add_heading('快快乐乐搞科研',0)\n",
    "# 添加段落\n",
    "p = document.add_paragraph('Python非常容易上手,它')\n",
    "run = p.add_run('简单')\n",
    "run.bold = True #加粗\n",
    "run.font.size = Pt(18)\n",
    "p.add_run('而且')\n",
    "run = p.add_run('优雅')\n",
    "run.font.size = Pt(18)\n",
    "run.underline = True #下划线\n",
    "p.add_run('。')\n",
    "\n",
    "# 添加一级标题\n",
    "document.add_heading('Heading, level 1',level=1)\n",
    "# 添加带样式段落\n",
    "document.add_paragraph('Intense quote',style='Intense Quote')\n",
    "# 添加无序列表\n",
    "document.add_paragraph('first item in unordered list',style='List Bullet')\n",
    "document.add_paragraph('second item in unordered list',style='List Bullet')\n",
    "# 添加有序列表\n",
    "document.add_paragraph('first item in ordered list',style='List Number')\n",
    "document.add_paragraph('second item in ordered list',style='List Number')\n",
    "\n",
    "# 添加图片\n",
    "document.add_picture('test.jpg',width=Cm(5.2))\n",
    "\n",
    "# 添加分节符\n",
    "document.add_section()\n",
    "\n",
    "records = (\n",
    "    ('张三','男','1998-8-95'),\n",
    "    ('李四','女','1998-8-95')\n",
    ")\n",
    "\n",
    "# 添加表格\n",
    "table = document.add_table(rows=1,cols=3)\n",
    "table.style = 'Dark List'#设置表格背景\n",
    "hdr_cells = table.rows[0].cells\n",
    "hdr_cells[0].text = '姓名'\n",
    "hdr_cells[1].text = '性别'\n",
    "hdr_cells[2].text = '出生日期'\n",
    "for name, sex, birthday in records:\n",
    "    row_cells = table.add_row().cells\n",
    "    row_cells[0].text = name\n",
    "    row_cells[1].text = sex\n",
    "    row_cells[2].text = birthday\n",
    "    \n",
    "# 添加分页符\n",
    "document.add_page_break()\n",
    "document.save('demo.docx')\n"
   ]
  },
  {
   "cell_type": "code",
   "execution_count": 12,
   "metadata": {},
   "outputs": [
    {
     "ename": "PackageNotFoundError",
     "evalue": "Package not found at '离职证明模板.docx'",
     "output_type": "error",
     "traceback": [
      "\u001b[1;31m---------------------------------------------------------------------------\u001b[0m",
      "\u001b[1;31mPackageNotFoundError\u001b[0m                      Traceback (most recent call last)",
      "\u001b[1;32m<ipython-input-12-d7e14715800b>\u001b[0m in \u001b[0;36m<module>\u001b[1;34m\u001b[0m\n\u001b[0;32m     29\u001b[0m ]\n\u001b[0;32m     30\u001b[0m \u001b[1;32mfor\u001b[0m \u001b[0memp_dict\u001b[0m \u001b[1;32min\u001b[0m \u001b[0memployees\u001b[0m\u001b[1;33m:\u001b[0m\u001b[1;33m\u001b[0m\u001b[1;33m\u001b[0m\u001b[0m\n\u001b[1;32m---> 31\u001b[1;33m     \u001b[0mdoc\u001b[0m \u001b[1;33m=\u001b[0m \u001b[0mDocument\u001b[0m\u001b[1;33m(\u001b[0m\u001b[1;34m'离职证明模板.docx'\u001b[0m\u001b[1;33m)\u001b[0m\u001b[1;31m#type:Doc\u001b[0m\u001b[1;33m\u001b[0m\u001b[1;33m\u001b[0m\u001b[0m\n\u001b[0m\u001b[0;32m     32\u001b[0m     \u001b[1;32mfor\u001b[0m \u001b[0mp\u001b[0m \u001b[1;32min\u001b[0m \u001b[0mdoc\u001b[0m\u001b[1;33m.\u001b[0m\u001b[0mparagraphs\u001b[0m\u001b[1;33m:\u001b[0m\u001b[1;33m\u001b[0m\u001b[1;33m\u001b[0m\u001b[0m\n\u001b[0;32m     33\u001b[0m         \u001b[1;32mif\u001b[0m \u001b[1;34m'{'\u001b[0m \u001b[1;32mnot\u001b[0m \u001b[1;32min\u001b[0m \u001b[0mp\u001b[0m\u001b[1;33m.\u001b[0m\u001b[0mtext\u001b[0m\u001b[1;33m:\u001b[0m\u001b[1;33m\u001b[0m\u001b[1;33m\u001b[0m\u001b[0m\n",
      "\u001b[1;32md:\\Programing\\anaconda\\lib\\site-packages\\docx\\api.py\u001b[0m in \u001b[0;36mDocument\u001b[1;34m(docx)\u001b[0m\n\u001b[0;32m     23\u001b[0m     \"\"\"\n\u001b[0;32m     24\u001b[0m     \u001b[0mdocx\u001b[0m \u001b[1;33m=\u001b[0m \u001b[0m_default_docx_path\u001b[0m\u001b[1;33m(\u001b[0m\u001b[1;33m)\u001b[0m \u001b[1;32mif\u001b[0m \u001b[0mdocx\u001b[0m \u001b[1;32mis\u001b[0m \u001b[1;32mNone\u001b[0m \u001b[1;32melse\u001b[0m \u001b[0mdocx\u001b[0m\u001b[1;33m\u001b[0m\u001b[1;33m\u001b[0m\u001b[0m\n\u001b[1;32m---> 25\u001b[1;33m     \u001b[0mdocument_part\u001b[0m \u001b[1;33m=\u001b[0m \u001b[0mPackage\u001b[0m\u001b[1;33m.\u001b[0m\u001b[0mopen\u001b[0m\u001b[1;33m(\u001b[0m\u001b[0mdocx\u001b[0m\u001b[1;33m)\u001b[0m\u001b[1;33m.\u001b[0m\u001b[0mmain_document_part\u001b[0m\u001b[1;33m\u001b[0m\u001b[1;33m\u001b[0m\u001b[0m\n\u001b[0m\u001b[0;32m     26\u001b[0m     \u001b[1;32mif\u001b[0m \u001b[0mdocument_part\u001b[0m\u001b[1;33m.\u001b[0m\u001b[0mcontent_type\u001b[0m \u001b[1;33m!=\u001b[0m \u001b[0mCT\u001b[0m\u001b[1;33m.\u001b[0m\u001b[0mWML_DOCUMENT_MAIN\u001b[0m\u001b[1;33m:\u001b[0m\u001b[1;33m\u001b[0m\u001b[1;33m\u001b[0m\u001b[0m\n\u001b[0;32m     27\u001b[0m         \u001b[0mtmpl\u001b[0m \u001b[1;33m=\u001b[0m \u001b[1;34m\"file '%s' is not a Word file, content type is '%s'\"\u001b[0m\u001b[1;33m\u001b[0m\u001b[1;33m\u001b[0m\u001b[0m\n",
      "\u001b[1;32md:\\Programing\\anaconda\\lib\\site-packages\\docx\\opc\\package.py\u001b[0m in \u001b[0;36mopen\u001b[1;34m(cls, pkg_file)\u001b[0m\n\u001b[0;32m    126\u001b[0m         \u001b[1;33m*\u001b[0m\u001b[0mpkg_file\u001b[0m\u001b[1;33m*\u001b[0m\u001b[1;33m.\u001b[0m\u001b[1;33m\u001b[0m\u001b[1;33m\u001b[0m\u001b[0m\n\u001b[0;32m    127\u001b[0m         \"\"\"\n\u001b[1;32m--> 128\u001b[1;33m         \u001b[0mpkg_reader\u001b[0m \u001b[1;33m=\u001b[0m \u001b[0mPackageReader\u001b[0m\u001b[1;33m.\u001b[0m\u001b[0mfrom_file\u001b[0m\u001b[1;33m(\u001b[0m\u001b[0mpkg_file\u001b[0m\u001b[1;33m)\u001b[0m\u001b[1;33m\u001b[0m\u001b[1;33m\u001b[0m\u001b[0m\n\u001b[0m\u001b[0;32m    129\u001b[0m         \u001b[0mpackage\u001b[0m \u001b[1;33m=\u001b[0m \u001b[0mcls\u001b[0m\u001b[1;33m(\u001b[0m\u001b[1;33m)\u001b[0m\u001b[1;33m\u001b[0m\u001b[1;33m\u001b[0m\u001b[0m\n\u001b[0;32m    130\u001b[0m         \u001b[0mUnmarshaller\u001b[0m\u001b[1;33m.\u001b[0m\u001b[0munmarshal\u001b[0m\u001b[1;33m(\u001b[0m\u001b[0mpkg_reader\u001b[0m\u001b[1;33m,\u001b[0m \u001b[0mpackage\u001b[0m\u001b[1;33m,\u001b[0m \u001b[0mPartFactory\u001b[0m\u001b[1;33m)\u001b[0m\u001b[1;33m\u001b[0m\u001b[1;33m\u001b[0m\u001b[0m\n",
      "\u001b[1;32md:\\Programing\\anaconda\\lib\\site-packages\\docx\\opc\\pkgreader.py\u001b[0m in \u001b[0;36mfrom_file\u001b[1;34m(pkg_file)\u001b[0m\n\u001b[0;32m     30\u001b[0m         \u001b[0mReturn\u001b[0m \u001b[0ma\u001b[0m \u001b[1;33m|\u001b[0m\u001b[0mPackageReader\u001b[0m\u001b[1;33m|\u001b[0m \u001b[0minstance\u001b[0m \u001b[0mloaded\u001b[0m \u001b[1;32mwith\u001b[0m \u001b[0mcontents\u001b[0m \u001b[0mof\u001b[0m \u001b[1;33m*\u001b[0m\u001b[0mpkg_file\u001b[0m\u001b[1;33m*\u001b[0m\u001b[1;33m.\u001b[0m\u001b[1;33m\u001b[0m\u001b[1;33m\u001b[0m\u001b[0m\n\u001b[0;32m     31\u001b[0m         \"\"\"\n\u001b[1;32m---> 32\u001b[1;33m         \u001b[0mphys_reader\u001b[0m \u001b[1;33m=\u001b[0m \u001b[0mPhysPkgReader\u001b[0m\u001b[1;33m(\u001b[0m\u001b[0mpkg_file\u001b[0m\u001b[1;33m)\u001b[0m\u001b[1;33m\u001b[0m\u001b[1;33m\u001b[0m\u001b[0m\n\u001b[0m\u001b[0;32m     33\u001b[0m         \u001b[0mcontent_types\u001b[0m \u001b[1;33m=\u001b[0m \u001b[0m_ContentTypeMap\u001b[0m\u001b[1;33m.\u001b[0m\u001b[0mfrom_xml\u001b[0m\u001b[1;33m(\u001b[0m\u001b[0mphys_reader\u001b[0m\u001b[1;33m.\u001b[0m\u001b[0mcontent_types_xml\u001b[0m\u001b[1;33m)\u001b[0m\u001b[1;33m\u001b[0m\u001b[1;33m\u001b[0m\u001b[0m\n\u001b[0;32m     34\u001b[0m         \u001b[0mpkg_srels\u001b[0m \u001b[1;33m=\u001b[0m \u001b[0mPackageReader\u001b[0m\u001b[1;33m.\u001b[0m\u001b[0m_srels_for\u001b[0m\u001b[1;33m(\u001b[0m\u001b[0mphys_reader\u001b[0m\u001b[1;33m,\u001b[0m \u001b[0mPACKAGE_URI\u001b[0m\u001b[1;33m)\u001b[0m\u001b[1;33m\u001b[0m\u001b[1;33m\u001b[0m\u001b[0m\n",
      "\u001b[1;32md:\\Programing\\anaconda\\lib\\site-packages\\docx\\opc\\phys_pkg.py\u001b[0m in \u001b[0;36m__new__\u001b[1;34m(cls, pkg_file)\u001b[0m\n\u001b[0;32m     29\u001b[0m             \u001b[1;32melse\u001b[0m\u001b[1;33m:\u001b[0m\u001b[1;33m\u001b[0m\u001b[1;33m\u001b[0m\u001b[0m\n\u001b[0;32m     30\u001b[0m                 raise PackageNotFoundError(\n\u001b[1;32m---> 31\u001b[1;33m                     \u001b[1;34m\"Package not found at '%s'\"\u001b[0m \u001b[1;33m%\u001b[0m \u001b[0mpkg_file\u001b[0m\u001b[1;33m\u001b[0m\u001b[1;33m\u001b[0m\u001b[0m\n\u001b[0m\u001b[0;32m     32\u001b[0m                 )\n\u001b[0;32m     33\u001b[0m         \u001b[1;32melse\u001b[0m\u001b[1;33m:\u001b[0m  \u001b[1;31m# assume it's a stream and pass it to Zip reader to sort out\u001b[0m\u001b[1;33m\u001b[0m\u001b[1;33m\u001b[0m\u001b[0m\n",
      "\u001b[1;31mPackageNotFoundError\u001b[0m: Package not found at '离职证明模板.docx'"
     ]
    }
   ],
   "source": [
    "from docx import Document\n",
    "from docx.document import Document as Doc\n",
    "\n",
    "employees = [\n",
    "    {\n",
    "        'name' : '张三',\n",
    "        'id' : '320324111111111116',\n",
    "        'sdate' : '2022年9月2日',\n",
    "        'edate' : '1222年2月3日',\n",
    "        'department' : '产品研发',\n",
    "        'position' : '架构师'\n",
    "    },\n",
    "    {\n",
    "        'name': '李四',\n",
    "        'id': '510210199012125566',\n",
    "        'sdate': '2019年1月1日',\n",
    "        'edate': '2021年4月30日',\n",
    "        'department': '产品研发',\n",
    "        'position': 'Python开发工程师'\n",
    "    },\n",
    "    {\n",
    "        'name': '王五',\n",
    "        'id': '2102101995103221599',\n",
    "        'sdate': '2020年5月10日',\n",
    "        'edate': '2021年3月5日',\n",
    "        'department': '产品研发',\n",
    "        'position': 'Java开发工程师'\n",
    "    },\n",
    "]\n",
    "for emp_dict in employees:\n",
    "    doc = Document('离职证明模板.docx')#type:Doc\n",
    "    for p in doc.paragraphs:\n",
    "        if '{' not in p.text:\n",
    "            continue\n",
    "        for run in p.runs:\n",
    "            if '{' not in run.text:\n",
    "                continue\n",
    "            start, end = run.text.find('{'), run.text.find('}')\n",
    "            key, place_holder = run.text[start + 1:end], run.text[start:end + 1]\n",
    "            run.text = run.text.replace(place_holder, emp_dict[key])\n",
    "    \n",
    "    doc.save(f'{emp_dict[\"name\"]}离职证明.docx')"
   ]
  }
 ],
 "metadata": {
  "kernelspec": {
   "display_name": "Python 3.7.3 ('base')",
   "language": "python",
   "name": "python3"
  },
  "language_info": {
   "codemirror_mode": {
    "name": "ipython",
    "version": 3
   },
   "file_extension": ".py",
   "mimetype": "text/x-python",
   "name": "python",
   "nbconvert_exporter": "python",
   "pygments_lexer": "ipython3",
   "version": "3.7.3"
  },
  "orig_nbformat": 4,
  "vscode": {
   "interpreter": {
    "hash": "a9c5d6bf6ac43018c98e112cde44a16bc9a4547af715e6ab8b81898abb027505"
   }
  }
 },
 "nbformat": 4,
 "nbformat_minor": 2
}
