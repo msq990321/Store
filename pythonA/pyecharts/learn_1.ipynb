{
 "cells": [
  {
   "cell_type": "code",
   "execution_count": 5,
   "metadata": {},
   "outputs": [
    {
     "name": "stdout",
     "output_type": "stream",
     "text": [
      "0.1.9.4\n"
     ]
    }
   ],
   "source": [
    "import pyecharts\n",
    "'''\n",
    "柱形图\n",
    "'''\n",
    "print(pyecharts.__version__)\n",
    "# bar = Bar('我的第一个图表','这是副标题')\n",
    "# bar.add(\"服装\", [\"衬衫\", \"羊毛衫\", \"雪纺衫\", \"裤子\", \"高跟鞋\", \"袜子\"], [5, 20, 36, 10, 75, 90])\n",
    "# bar.show_config()\n",
    "# bar.render()"
   ]
  }
 ],
 "metadata": {
  "kernelspec": {
   "display_name": "Python 3.7.3 ('base')",
   "language": "python",
   "name": "python3"
  },
  "language_info": {
   "codemirror_mode": {
    "name": "ipython",
    "version": 3
   },
   "file_extension": ".py",
   "mimetype": "text/x-python",
   "name": "python",
   "nbconvert_exporter": "python",
   "pygments_lexer": "ipython3",
   "version": "3.7.3"
  },
  "orig_nbformat": 4,
  "vscode": {
   "interpreter": {
    "hash": "a9c5d6bf6ac43018c98e112cde44a16bc9a4547af715e6ab8b81898abb027505"
   }
  }
 },
 "nbformat": 4,
 "nbformat_minor": 2
}
