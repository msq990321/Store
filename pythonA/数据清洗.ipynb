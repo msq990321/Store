{
 "cells": [
  {
   "cell_type": "code",
   "execution_count": null,
   "metadata": {},
   "outputs": [],
   "source": [
    "print(open.__doc__)"
   ]
  },
  {
   "cell_type": "code",
   "execution_count": null,
   "metadata": {},
   "outputs": [],
   "source": [
    "import pandas as pd\n",
    "data = {'A':[1,2,3],'B':[4,5,6]}\n",
    "df = pd.DataFrame(data)\n",
    "df['A'] = df['A']+1\n",
    "df.to_csv('csvdemo.csv',mode='w',header=False)\n",
    "print(df)"
   ]
  },
  {
   "cell_type": "code",
   "execution_count": null,
   "metadata": {},
   "outputs": [],
   "source": [
    "import pandas as pd\n",
    "df = pd.read_csv('csvdemo.csv')\n",
    "print(df)"
   ]
  },
  {
   "cell_type": "code",
   "execution_count": null,
   "metadata": {},
   "outputs": [],
   "source": [
    "import pandas as pd\n",
    "df = pd.read_csv('csvdemo.csv',names=['ID','H','W'])\n",
    "print('DataFrame:\\n',df)\n",
    "print('df.index.name',df.index.name)"
   ]
  },
  {
   "cell_type": "code",
   "execution_count": null,
   "metadata": {},
   "outputs": [],
   "source": [
    "# 关于json\n",
    "import json\n",
    "data = {'lang':'汉语'}\n",
    "json_str = json.dumps(data,ensure_ascii=False,indent=8,sort_keys=True)\n",
    "print(json_str)"
   ]
  },
  {
   "cell_type": "code",
   "execution_count": null,
   "metadata": {},
   "outputs": [],
   "source": [
    "# 关于xlsx表格数据读取\n",
    "import os\n",
    "import xlsxwriter\n",
    "if 'Mylistdata' not in os.listdir():\n",
    "    os.mkdir('Mylistdata')\n",
    "os.chdir('Mylistdata')\n",
    "\n",
    "workbook = xlsxwriter.Workbook('Hello_World.xlsx')\n",
    "worksheet = workbook.add_worksheet('表1')\n",
    "worksheet.write('A1','Hello World!')\n",
    "workbook.close()"
   ]
  },
  {
   "cell_type": "code",
   "execution_count": 6,
   "metadata": {},
   "outputs": [],
   "source": [
    "import os\n",
    "from selenium.webdriver.common.by import By\n",
    "from selenium.webdriver.chrome.options import Options\n",
    "from selenium import webdriver\n",
    "import time\n",
    "\n",
    "# 定义浏览器属性\n",
    "def hide():\n",
    "    chrome_options = Options()\n",
    "    chrome_options.add_argument('__hide-scrollbars')\n",
    "    chrome_options.add_argument('blink-settings=imagesEnabled=false')\n",
    "    chrome_options.add_argument('--headless')\n",
    "    return chrome_options\n",
    "\n",
    "\n",
    "wd = webdriver.Chrome()\n",
    "wd.implicitly_wait(10)\n",
    "mainWindow = wd.current_window_handle\n",
    "\n",
    "pics_urls=[]#网页地址\n",
    "titles = []\n",
    "#给👴爬\n",
    "url = 'http://pixivic.com/'\n",
    "wd.get(url)\n",
    "\n",
    "elements = wd.find_elements(By.XPATH,'//div//img[contains(@src,\".jpg\")]')\n",
    "for element in elements:\n",
    "    titles.append(element.get_attribute('src').split('/')[-1])\n",
    "    element.click()\n",
    "    time.sleep(3)\n",
    "    \n",
    "    '''滚动脚本#browser.execute_script('document.documentElement.scrollTop=100000')'''\n",
    "    \n",
    "    elet = wd.find_element(By.CSS_SELECTOR,'img[style*=\"width: 100%;\"]')\n",
    "    pics_urls.append(elet.get_attribute('src'))\n",
    "    wd.back()\n",
    "wd.quit()\n"
   ]
  },
  {
   "cell_type": "code",
   "execution_count": 8,
   "metadata": {},
   "outputs": [],
   "source": [
    "#这里应该是Pixv站编码问题，防js脚本，防爬虫爬图片\n",
    "import os\n",
    "import requests\n",
    "from fake_useragent import UserAgent\n",
    "ua = UserAgent()\n",
    "headers = {'User-Agent':ua.random}\n",
    "if 'Pixv' not in os.listdir():\n",
    "    os.mkdir('Pixv')\n",
    "os.chdir('Pixv')\n",
    "\n",
    "for i in range(len(pics_urls)):\n",
    "        img_url = pics_urls[i]\n",
    "        img_data = requests.get(img_url,headers=headers).content\n",
    "        with open(titles[i]+'.png','wb') as f:\n",
    "            f.write(img_data)\n"
   ]
  },
  {
   "cell_type": "code",
   "execution_count": 1,
   "metadata": {},
   "outputs": [
    {
     "name": "stderr",
     "output_type": "stream",
     "text": [
      "D:\\Programing\\anaconda\\lib\\site-packages\\requests\\__init__.py:91: RequestsDependencyWarning: urllib3 (1.26.9) or chardet (3.0.4) doesn't match a supported version!\n",
      "  RequestsDependencyWarning)\n"
     ]
    }
   ],
   "source": [
    "import requests\n",
    "url = 'https://img.99tu.com:9988/uploads/allimg/c201115/16053Q9321c10-54148.jpg'\n",
    "img = requests.get(url).content\n",
    "with open('tu.jpg','wb') as f:\n",
    "    f.write(img)"
   ]
  }
 ],
 "metadata": {
  "interpreter": {
   "hash": "efcb995ca065c0af5a3100e0434605e785dcce5a94f96e4bbb0b83780dee0cfc"
  },
  "kernelspec": {
   "display_name": "Python 3.7.6 ('base')",
   "language": "python",
   "name": "python3"
  },
  "language_info": {
   "codemirror_mode": {
    "name": "ipython",
    "version": 3
   },
   "file_extension": ".py",
   "mimetype": "text/x-python",
   "name": "python",
   "nbconvert_exporter": "python",
   "pygments_lexer": "ipython3",
   "version": "3.7.6"
  },
  "orig_nbformat": 4
 },
 "nbformat": 4,
 "nbformat_minor": 2
}
